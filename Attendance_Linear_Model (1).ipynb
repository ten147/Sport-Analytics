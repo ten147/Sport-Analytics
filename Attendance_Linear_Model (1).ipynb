{
 "cells": [
  {
   "cell_type": "code",
   "execution_count": 1,
   "metadata": {
    "collapsed": true
   },
   "outputs": [],
   "source": [
    "import h2o\n",
    "from h2o.estimators.glm import H2OGeneralizedLinearEstimator"
   ]
  },
  {
   "cell_type": "code",
   "execution_count": 2,
   "metadata": {},
   "outputs": [
    {
     "name": "stdout",
     "output_type": "stream",
     "text": [
      "Checking whether there is an H2O instance running at http://localhost:54321..... not found.\n",
      "Attempting to start a local H2O server...\n",
      "; Java HotSpot(TM) 64-Bit Server VM (build 25.161-b12, mixed mode)\n",
      "  Starting server from C:\\Program Files\\Anaconda3\\lib\\site-packages\\h2o\\backend\\bin\\h2o.jar\n",
      "  Ice root: C:\\Users\\justi\\AppData\\Local\\Temp\\tmppadmow7p\n",
      "  JVM stdout: C:\\Users\\justi\\AppData\\Local\\Temp\\tmppadmow7p\\h2o_justi_started_from_python.out\n",
      "  JVM stderr: C:\\Users\\justi\\AppData\\Local\\Temp\\tmppadmow7p\\h2o_justi_started_from_python.err\n",
      "  Server is running at http://127.0.0.1:54321\n",
      "Connecting to H2O server at http://127.0.0.1:54321... successful.\n",
      "Warning: Your H2O cluster version is too old (5 months and 25 days)! Please download and install the latest version from http://h2o.ai/download/\n"
     ]
    },
    {
     "data": {
      "text/html": [
       "<div style=\"overflow:auto\"><table style=\"width:50%\"><tr><td>H2O cluster uptime:</td>\n",
       "<td>04 secs</td></tr>\n",
       "<tr><td>H2O cluster timezone:</td>\n",
       "<td>America/New_York</td></tr>\n",
       "<tr><td>H2O data parsing timezone:</td>\n",
       "<td>UTC</td></tr>\n",
       "<tr><td>H2O cluster version:</td>\n",
       "<td>3.18.0.11</td></tr>\n",
       "<tr><td>H2O cluster version age:</td>\n",
       "<td>5 months and 25 days !!!</td></tr>\n",
       "<tr><td>H2O cluster name:</td>\n",
       "<td>H2O_from_python_justi_k3phyy</td></tr>\n",
       "<tr><td>H2O cluster total nodes:</td>\n",
       "<td>1</td></tr>\n",
       "<tr><td>H2O cluster free memory:</td>\n",
       "<td>1.745 Gb</td></tr>\n",
       "<tr><td>H2O cluster total cores:</td>\n",
       "<td>4</td></tr>\n",
       "<tr><td>H2O cluster allowed cores:</td>\n",
       "<td>4</td></tr>\n",
       "<tr><td>H2O cluster status:</td>\n",
       "<td>accepting new members, healthy</td></tr>\n",
       "<tr><td>H2O connection url:</td>\n",
       "<td>http://127.0.0.1:54321</td></tr>\n",
       "<tr><td>H2O connection proxy:</td>\n",
       "<td>None</td></tr>\n",
       "<tr><td>H2O internal security:</td>\n",
       "<td>False</td></tr>\n",
       "<tr><td>H2O API Extensions:</td>\n",
       "<td>Algos, AutoML, Core V3, Core V4</td></tr>\n",
       "<tr><td>Python version:</td>\n",
       "<td>3.6.1 final</td></tr></table></div>"
      ],
      "text/plain": [
       "--------------------------  -------------------------------\n",
       "H2O cluster uptime:         04 secs\n",
       "H2O cluster timezone:       America/New_York\n",
       "H2O data parsing timezone:  UTC\n",
       "H2O cluster version:        3.18.0.11\n",
       "H2O cluster version age:    5 months and 25 days !!!\n",
       "H2O cluster name:           H2O_from_python_justi_k3phyy\n",
       "H2O cluster total nodes:    1\n",
       "H2O cluster free memory:    1.745 Gb\n",
       "H2O cluster total cores:    4\n",
       "H2O cluster allowed cores:  4\n",
       "H2O cluster status:         accepting new members, healthy\n",
       "H2O connection url:         http://127.0.0.1:54321\n",
       "H2O connection proxy:\n",
       "H2O internal security:      False\n",
       "H2O API Extensions:         Algos, AutoML, Core V3, Core V4\n",
       "Python version:             3.6.1 final\n",
       "--------------------------  -------------------------------"
      ]
     },
     "metadata": {},
     "output_type": "display_data"
    }
   ],
   "source": [
    "h2o.init()"
   ]
  },
  {
   "cell_type": "code",
   "execution_count": 51,
   "metadata": {},
   "outputs": [
    {
     "name": "stdout",
     "output_type": "stream",
     "text": [
      "Parse progress: |█████████████████████████████████████████████████████████| 100%\n"
     ]
    }
   ],
   "source": [
    "#Import the data\n",
    "dataframe = h2o.import_file('oriolesdata.csv')"
   ]
  },
  {
   "cell_type": "code",
   "execution_count": 52,
   "metadata": {},
   "outputs": [
    {
     "data": {
      "text/html": [
       "<table>\n",
       "<thead>\n",
       "<tr><th style=\"text-align: right;\">  ATTENDANCE</th><th style=\"text-align: right;\">  Prev_yr</th><th style=\"text-align: right;\">  Prev_2yr</th><th style=\"text-align: right;\">  avg_temp</th><th style=\"text-align: right;\">  Good_weather</th><th style=\"text-align: right;\">  Bad_weather</th><th style=\"text-align: right;\">  Temp</th><th style=\"text-align: right;\">  Hot</th><th style=\"text-align: right;\">  Cold</th><th style=\"text-align: right;\">  Opening Day</th><th style=\"text-align: right;\">  Holiday</th><th style=\"text-align: right;\">  Interleague</th><th style=\"text-align: right;\">  NYY</th><th style=\"text-align: right;\">  BOS</th><th style=\"text-align: right;\">  WSH</th><th style=\"text-align: right;\">  NIGHT</th><th style=\"text-align: right;\">  Mon</th><th style=\"text-align: right;\">  Tue</th><th style=\"text-align: right;\">  WED</th><th style=\"text-align: right;\">  Thu</th><th style=\"text-align: right;\">  FRI</th><th style=\"text-align: right;\">  SAT</th><th style=\"text-align: right;\">  SUN</th><th style=\"text-align: right;\">  Apr</th><th style=\"text-align: right;\">  May</th><th style=\"text-align: right;\">  Jun</th><th style=\"text-align: right;\">  Jul</th><th style=\"text-align: right;\">  Aug</th><th style=\"text-align: right;\">  Sept</th><th style=\"text-align: right;\">  Year_2001</th><th style=\"text-align: right;\">  Year_2002</th><th style=\"text-align: right;\">  Year_2003</th><th style=\"text-align: right;\">  Year_2004</th><th style=\"text-align: right;\">  Year_2005</th><th style=\"text-align: right;\">  Year_2006</th><th style=\"text-align: right;\">  Year_2007</th><th style=\"text-align: right;\">  Year_2008</th><th style=\"text-align: right;\">  Year_2009</th><th style=\"text-align: right;\">  Year_2010</th><th style=\"text-align: right;\">  Year_2011</th><th style=\"text-align: right;\">  Year_2012</th><th style=\"text-align: right;\">  Year_2013</th><th style=\"text-align: right;\">  Year_2014</th><th style=\"text-align: right;\">  Year_2015</th><th style=\"text-align: right;\">  Year_2016</th><th style=\"text-align: right;\">  Year_2017</th><th style=\"text-align: right;\">  Year_2018</th><th style=\"text-align: right;\">  Year_2019</th><th style=\"text-align: right;\">  Bobblehead</th><th style=\"text-align: right;\">  Fireworks</th><th style=\"text-align: right;\">  Make_up</th><th style=\"text-align: right;\">  C52</th><th style=\"text-align: right;\">  C53</th><th style=\"text-align: right;\">  C54</th></tr>\n",
       "</thead>\n",
       "<tbody>\n",
       "<tr><td style=\"text-align: right;\">       47482</td><td style=\"text-align: right;\">    40704</td><td style=\"text-align: right;\">     42385</td><td style=\"text-align: right;\">     57.13</td><td style=\"text-align: right;\">             0</td><td style=\"text-align: right;\">            1</td><td style=\"text-align: right;\">    43</td><td style=\"text-align: right;\">    0</td><td style=\"text-align: right;\">     1</td><td style=\"text-align: right;\">            1</td><td style=\"text-align: right;\">        0</td><td style=\"text-align: right;\">            0</td><td style=\"text-align: right;\">    0</td><td style=\"text-align: right;\">    1</td><td style=\"text-align: right;\">    0</td><td style=\"text-align: right;\">      1</td><td style=\"text-align: right;\">    0</td><td style=\"text-align: right;\">    0</td><td style=\"text-align: right;\">    0</td><td style=\"text-align: right;\">    0</td><td style=\"text-align: right;\">    0</td><td style=\"text-align: right;\">    0</td><td style=\"text-align: right;\">    1</td><td style=\"text-align: right;\">    1</td><td style=\"text-align: right;\">    0</td><td style=\"text-align: right;\">    0</td><td style=\"text-align: right;\">    0</td><td style=\"text-align: right;\">    0</td><td style=\"text-align: right;\">     0</td><td style=\"text-align: right;\">          1</td><td style=\"text-align: right;\">          0</td><td style=\"text-align: right;\">          0</td><td style=\"text-align: right;\">          0</td><td style=\"text-align: right;\">          0</td><td style=\"text-align: right;\">          0</td><td style=\"text-align: right;\">          0</td><td style=\"text-align: right;\">          0</td><td style=\"text-align: right;\">          0</td><td style=\"text-align: right;\">          0</td><td style=\"text-align: right;\">          0</td><td style=\"text-align: right;\">          0</td><td style=\"text-align: right;\">          0</td><td style=\"text-align: right;\">          0</td><td style=\"text-align: right;\">          0</td><td style=\"text-align: right;\">          0</td><td style=\"text-align: right;\">          0</td><td style=\"text-align: right;\">          0</td><td style=\"text-align: right;\">          0</td><td style=\"text-align: right;\">           0</td><td style=\"text-align: right;\">          0</td><td style=\"text-align: right;\">        0</td><td style=\"text-align: right;\">  nan</td><td style=\"text-align: right;\">  nan</td><td style=\"text-align: right;\">  nan</td></tr>\n",
       "<tr><td style=\"text-align: right;\">       35207</td><td style=\"text-align: right;\">    40704</td><td style=\"text-align: right;\">     42385</td><td style=\"text-align: right;\">     57.58</td><td style=\"text-align: right;\">             1</td><td style=\"text-align: right;\">            0</td><td style=\"text-align: right;\">    59</td><td style=\"text-align: right;\">    0</td><td style=\"text-align: right;\">     0</td><td style=\"text-align: right;\">            0</td><td style=\"text-align: right;\">        0</td><td style=\"text-align: right;\">            0</td><td style=\"text-align: right;\">    0</td><td style=\"text-align: right;\">    1</td><td style=\"text-align: right;\">    0</td><td style=\"text-align: right;\">      0</td><td style=\"text-align: right;\">    0</td><td style=\"text-align: right;\">    1</td><td style=\"text-align: right;\">    0</td><td style=\"text-align: right;\">    0</td><td style=\"text-align: right;\">    0</td><td style=\"text-align: right;\">    0</td><td style=\"text-align: right;\">    0</td><td style=\"text-align: right;\">    1</td><td style=\"text-align: right;\">    0</td><td style=\"text-align: right;\">    0</td><td style=\"text-align: right;\">    0</td><td style=\"text-align: right;\">    0</td><td style=\"text-align: right;\">     0</td><td style=\"text-align: right;\">          1</td><td style=\"text-align: right;\">          0</td><td style=\"text-align: right;\">          0</td><td style=\"text-align: right;\">          0</td><td style=\"text-align: right;\">          0</td><td style=\"text-align: right;\">          0</td><td style=\"text-align: right;\">          0</td><td style=\"text-align: right;\">          0</td><td style=\"text-align: right;\">          0</td><td style=\"text-align: right;\">          0</td><td style=\"text-align: right;\">          0</td><td style=\"text-align: right;\">          0</td><td style=\"text-align: right;\">          0</td><td style=\"text-align: right;\">          0</td><td style=\"text-align: right;\">          0</td><td style=\"text-align: right;\">          0</td><td style=\"text-align: right;\">          0</td><td style=\"text-align: right;\">          0</td><td style=\"text-align: right;\">          0</td><td style=\"text-align: right;\">           0</td><td style=\"text-align: right;\">          0</td><td style=\"text-align: right;\">        0</td><td style=\"text-align: right;\">  nan</td><td style=\"text-align: right;\">  nan</td><td style=\"text-align: right;\">  nan</td></tr>\n",
       "<tr><td style=\"text-align: right;\">       28315</td><td style=\"text-align: right;\">    40704</td><td style=\"text-align: right;\">     42385</td><td style=\"text-align: right;\">     62   </td><td style=\"text-align: right;\">             1</td><td style=\"text-align: right;\">            0</td><td style=\"text-align: right;\">    75</td><td style=\"text-align: right;\">    0</td><td style=\"text-align: right;\">     0</td><td style=\"text-align: right;\">            0</td><td style=\"text-align: right;\">        0</td><td style=\"text-align: right;\">            0</td><td style=\"text-align: right;\">    0</td><td style=\"text-align: right;\">    1</td><td style=\"text-align: right;\">    0</td><td style=\"text-align: right;\">      1</td><td style=\"text-align: right;\">    0</td><td style=\"text-align: right;\">    0</td><td style=\"text-align: right;\">    1</td><td style=\"text-align: right;\">    0</td><td style=\"text-align: right;\">    0</td><td style=\"text-align: right;\">    0</td><td style=\"text-align: right;\">    0</td><td style=\"text-align: right;\">    1</td><td style=\"text-align: right;\">    0</td><td style=\"text-align: right;\">    0</td><td style=\"text-align: right;\">    0</td><td style=\"text-align: right;\">    0</td><td style=\"text-align: right;\">     0</td><td style=\"text-align: right;\">          1</td><td style=\"text-align: right;\">          0</td><td style=\"text-align: right;\">          0</td><td style=\"text-align: right;\">          0</td><td style=\"text-align: right;\">          0</td><td style=\"text-align: right;\">          0</td><td style=\"text-align: right;\">          0</td><td style=\"text-align: right;\">          0</td><td style=\"text-align: right;\">          0</td><td style=\"text-align: right;\">          0</td><td style=\"text-align: right;\">          0</td><td style=\"text-align: right;\">          0</td><td style=\"text-align: right;\">          0</td><td style=\"text-align: right;\">          0</td><td style=\"text-align: right;\">          0</td><td style=\"text-align: right;\">          0</td><td style=\"text-align: right;\">          0</td><td style=\"text-align: right;\">          0</td><td style=\"text-align: right;\">          0</td><td style=\"text-align: right;\">           0</td><td style=\"text-align: right;\">          0</td><td style=\"text-align: right;\">        0</td><td style=\"text-align: right;\">  nan</td><td style=\"text-align: right;\">  nan</td><td style=\"text-align: right;\">  nan</td></tr>\n",
       "<tr><td style=\"text-align: right;\">       31010</td><td style=\"text-align: right;\">    40704</td><td style=\"text-align: right;\">     42385</td><td style=\"text-align: right;\">     54.43</td><td style=\"text-align: right;\">             0</td><td style=\"text-align: right;\">            1</td><td style=\"text-align: right;\">    53</td><td style=\"text-align: right;\">    0</td><td style=\"text-align: right;\">     1</td><td style=\"text-align: right;\">            0</td><td style=\"text-align: right;\">        0</td><td style=\"text-align: right;\">            0</td><td style=\"text-align: right;\">    0</td><td style=\"text-align: right;\">    1</td><td style=\"text-align: right;\">    0</td><td style=\"text-align: right;\">      1</td><td style=\"text-align: right;\">    0</td><td style=\"text-align: right;\">    0</td><td style=\"text-align: right;\">    0</td><td style=\"text-align: right;\">    1</td><td style=\"text-align: right;\">    0</td><td style=\"text-align: right;\">    0</td><td style=\"text-align: right;\">    0</td><td style=\"text-align: right;\">    1</td><td style=\"text-align: right;\">    0</td><td style=\"text-align: right;\">    0</td><td style=\"text-align: right;\">    0</td><td style=\"text-align: right;\">    0</td><td style=\"text-align: right;\">     0</td><td style=\"text-align: right;\">          1</td><td style=\"text-align: right;\">          0</td><td style=\"text-align: right;\">          0</td><td style=\"text-align: right;\">          0</td><td style=\"text-align: right;\">          0</td><td style=\"text-align: right;\">          0</td><td style=\"text-align: right;\">          0</td><td style=\"text-align: right;\">          0</td><td style=\"text-align: right;\">          0</td><td style=\"text-align: right;\">          0</td><td style=\"text-align: right;\">          0</td><td style=\"text-align: right;\">          0</td><td style=\"text-align: right;\">          0</td><td style=\"text-align: right;\">          0</td><td style=\"text-align: right;\">          0</td><td style=\"text-align: right;\">          0</td><td style=\"text-align: right;\">          0</td><td style=\"text-align: right;\">          0</td><td style=\"text-align: right;\">          0</td><td style=\"text-align: right;\">           0</td><td style=\"text-align: right;\">          0</td><td style=\"text-align: right;\">        0</td><td style=\"text-align: right;\">  nan</td><td style=\"text-align: right;\">  nan</td><td style=\"text-align: right;\">  nan</td></tr>\n",
       "<tr><td style=\"text-align: right;\">       21902</td><td style=\"text-align: right;\">    40704</td><td style=\"text-align: right;\">     42385</td><td style=\"text-align: right;\">     70.83</td><td style=\"text-align: right;\">             0</td><td style=\"text-align: right;\">            0</td><td style=\"text-align: right;\">    79</td><td style=\"text-align: right;\">    0</td><td style=\"text-align: right;\">     0</td><td style=\"text-align: right;\">            0</td><td style=\"text-align: right;\">        0</td><td style=\"text-align: right;\">            0</td><td style=\"text-align: right;\">    0</td><td style=\"text-align: right;\">    0</td><td style=\"text-align: right;\">    0</td><td style=\"text-align: right;\">      1</td><td style=\"text-align: right;\">    0</td><td style=\"text-align: right;\">    1</td><td style=\"text-align: right;\">    0</td><td style=\"text-align: right;\">    0</td><td style=\"text-align: right;\">    0</td><td style=\"text-align: right;\">    0</td><td style=\"text-align: right;\">    0</td><td style=\"text-align: right;\">    1</td><td style=\"text-align: right;\">    0</td><td style=\"text-align: right;\">    0</td><td style=\"text-align: right;\">    0</td><td style=\"text-align: right;\">    0</td><td style=\"text-align: right;\">     0</td><td style=\"text-align: right;\">          1</td><td style=\"text-align: right;\">          0</td><td style=\"text-align: right;\">          0</td><td style=\"text-align: right;\">          0</td><td style=\"text-align: right;\">          0</td><td style=\"text-align: right;\">          0</td><td style=\"text-align: right;\">          0</td><td style=\"text-align: right;\">          0</td><td style=\"text-align: right;\">          0</td><td style=\"text-align: right;\">          0</td><td style=\"text-align: right;\">          0</td><td style=\"text-align: right;\">          0</td><td style=\"text-align: right;\">          0</td><td style=\"text-align: right;\">          0</td><td style=\"text-align: right;\">          0</td><td style=\"text-align: right;\">          0</td><td style=\"text-align: right;\">          0</td><td style=\"text-align: right;\">          0</td><td style=\"text-align: right;\">          0</td><td style=\"text-align: right;\">           0</td><td style=\"text-align: right;\">          0</td><td style=\"text-align: right;\">        0</td><td style=\"text-align: right;\">  nan</td><td style=\"text-align: right;\">  nan</td><td style=\"text-align: right;\">  nan</td></tr>\n",
       "<tr><td style=\"text-align: right;\">       20781</td><td style=\"text-align: right;\">    40704</td><td style=\"text-align: right;\">     42385</td><td style=\"text-align: right;\">     65.91</td><td style=\"text-align: right;\">             0</td><td style=\"text-align: right;\">            0</td><td style=\"text-align: right;\">    71</td><td style=\"text-align: right;\">    0</td><td style=\"text-align: right;\">     0</td><td style=\"text-align: right;\">            0</td><td style=\"text-align: right;\">        0</td><td style=\"text-align: right;\">            0</td><td style=\"text-align: right;\">    0</td><td style=\"text-align: right;\">    0</td><td style=\"text-align: right;\">    0</td><td style=\"text-align: right;\">      1</td><td style=\"text-align: right;\">    0</td><td style=\"text-align: right;\">    0</td><td style=\"text-align: right;\">    1</td><td style=\"text-align: right;\">    0</td><td style=\"text-align: right;\">    0</td><td style=\"text-align: right;\">    0</td><td style=\"text-align: right;\">    0</td><td style=\"text-align: right;\">    1</td><td style=\"text-align: right;\">    0</td><td style=\"text-align: right;\">    0</td><td style=\"text-align: right;\">    0</td><td style=\"text-align: right;\">    0</td><td style=\"text-align: right;\">     0</td><td style=\"text-align: right;\">          1</td><td style=\"text-align: right;\">          0</td><td style=\"text-align: right;\">          0</td><td style=\"text-align: right;\">          0</td><td style=\"text-align: right;\">          0</td><td style=\"text-align: right;\">          0</td><td style=\"text-align: right;\">          0</td><td style=\"text-align: right;\">          0</td><td style=\"text-align: right;\">          0</td><td style=\"text-align: right;\">          0</td><td style=\"text-align: right;\">          0</td><td style=\"text-align: right;\">          0</td><td style=\"text-align: right;\">          0</td><td style=\"text-align: right;\">          0</td><td style=\"text-align: right;\">          0</td><td style=\"text-align: right;\">          0</td><td style=\"text-align: right;\">          0</td><td style=\"text-align: right;\">          0</td><td style=\"text-align: right;\">          0</td><td style=\"text-align: right;\">           0</td><td style=\"text-align: right;\">          0</td><td style=\"text-align: right;\">        0</td><td style=\"text-align: right;\">  nan</td><td style=\"text-align: right;\">  nan</td><td style=\"text-align: right;\">  nan</td></tr>\n",
       "<tr><td style=\"text-align: right;\">       19250</td><td style=\"text-align: right;\">    40704</td><td style=\"text-align: right;\">     42385</td><td style=\"text-align: right;\">     66.25</td><td style=\"text-align: right;\">             0</td><td style=\"text-align: right;\">            1</td><td style=\"text-align: right;\">    82</td><td style=\"text-align: right;\">    0</td><td style=\"text-align: right;\">     0</td><td style=\"text-align: right;\">            0</td><td style=\"text-align: right;\">        0</td><td style=\"text-align: right;\">            0</td><td style=\"text-align: right;\">    0</td><td style=\"text-align: right;\">    0</td><td style=\"text-align: right;\">    0</td><td style=\"text-align: right;\">      1</td><td style=\"text-align: right;\">    0</td><td style=\"text-align: right;\">    0</td><td style=\"text-align: right;\">    0</td><td style=\"text-align: right;\">    1</td><td style=\"text-align: right;\">    0</td><td style=\"text-align: right;\">    0</td><td style=\"text-align: right;\">    0</td><td style=\"text-align: right;\">    1</td><td style=\"text-align: right;\">    0</td><td style=\"text-align: right;\">    0</td><td style=\"text-align: right;\">    0</td><td style=\"text-align: right;\">    0</td><td style=\"text-align: right;\">     0</td><td style=\"text-align: right;\">          1</td><td style=\"text-align: right;\">          0</td><td style=\"text-align: right;\">          0</td><td style=\"text-align: right;\">          0</td><td style=\"text-align: right;\">          0</td><td style=\"text-align: right;\">          0</td><td style=\"text-align: right;\">          0</td><td style=\"text-align: right;\">          0</td><td style=\"text-align: right;\">          0</td><td style=\"text-align: right;\">          0</td><td style=\"text-align: right;\">          0</td><td style=\"text-align: right;\">          0</td><td style=\"text-align: right;\">          0</td><td style=\"text-align: right;\">          0</td><td style=\"text-align: right;\">          0</td><td style=\"text-align: right;\">          0</td><td style=\"text-align: right;\">          0</td><td style=\"text-align: right;\">          0</td><td style=\"text-align: right;\">          0</td><td style=\"text-align: right;\">           0</td><td style=\"text-align: right;\">          0</td><td style=\"text-align: right;\">        0</td><td style=\"text-align: right;\">  nan</td><td style=\"text-align: right;\">  nan</td><td style=\"text-align: right;\">  nan</td></tr>\n",
       "<tr><td style=\"text-align: right;\">       26827</td><td style=\"text-align: right;\">    40704</td><td style=\"text-align: right;\">     42385</td><td style=\"text-align: right;\">     65.7 </td><td style=\"text-align: right;\">             0</td><td style=\"text-align: right;\">            1</td><td style=\"text-align: right;\">    70</td><td style=\"text-align: right;\">    0</td><td style=\"text-align: right;\">     0</td><td style=\"text-align: right;\">            0</td><td style=\"text-align: right;\">        0</td><td style=\"text-align: right;\">            0</td><td style=\"text-align: right;\">    0</td><td style=\"text-align: right;\">    0</td><td style=\"text-align: right;\">    0</td><td style=\"text-align: right;\">      1</td><td style=\"text-align: right;\">    0</td><td style=\"text-align: right;\">    0</td><td style=\"text-align: right;\">    0</td><td style=\"text-align: right;\">    0</td><td style=\"text-align: right;\">    1</td><td style=\"text-align: right;\">    0</td><td style=\"text-align: right;\">    0</td><td style=\"text-align: right;\">    1</td><td style=\"text-align: right;\">    0</td><td style=\"text-align: right;\">    0</td><td style=\"text-align: right;\">    0</td><td style=\"text-align: right;\">    0</td><td style=\"text-align: right;\">     0</td><td style=\"text-align: right;\">          1</td><td style=\"text-align: right;\">          0</td><td style=\"text-align: right;\">          0</td><td style=\"text-align: right;\">          0</td><td style=\"text-align: right;\">          0</td><td style=\"text-align: right;\">          0</td><td style=\"text-align: right;\">          0</td><td style=\"text-align: right;\">          0</td><td style=\"text-align: right;\">          0</td><td style=\"text-align: right;\">          0</td><td style=\"text-align: right;\">          0</td><td style=\"text-align: right;\">          0</td><td style=\"text-align: right;\">          0</td><td style=\"text-align: right;\">          0</td><td style=\"text-align: right;\">          0</td><td style=\"text-align: right;\">          0</td><td style=\"text-align: right;\">          0</td><td style=\"text-align: right;\">          0</td><td style=\"text-align: right;\">          0</td><td style=\"text-align: right;\">           0</td><td style=\"text-align: right;\">          0</td><td style=\"text-align: right;\">        0</td><td style=\"text-align: right;\">  nan</td><td style=\"text-align: right;\">  nan</td><td style=\"text-align: right;\">  nan</td></tr>\n",
       "<tr><td style=\"text-align: right;\">       41093</td><td style=\"text-align: right;\">    40704</td><td style=\"text-align: right;\">     42385</td><td style=\"text-align: right;\">     69.27</td><td style=\"text-align: right;\">             1</td><td style=\"text-align: right;\">            0</td><td style=\"text-align: right;\">    77</td><td style=\"text-align: right;\">    0</td><td style=\"text-align: right;\">     0</td><td style=\"text-align: right;\">            0</td><td style=\"text-align: right;\">        0</td><td style=\"text-align: right;\">            0</td><td style=\"text-align: right;\">    0</td><td style=\"text-align: right;\">    0</td><td style=\"text-align: right;\">    0</td><td style=\"text-align: right;\">      0</td><td style=\"text-align: right;\">    0</td><td style=\"text-align: right;\">    0</td><td style=\"text-align: right;\">    0</td><td style=\"text-align: right;\">    0</td><td style=\"text-align: right;\">    0</td><td style=\"text-align: right;\">    1</td><td style=\"text-align: right;\">    0</td><td style=\"text-align: right;\">    1</td><td style=\"text-align: right;\">    0</td><td style=\"text-align: right;\">    0</td><td style=\"text-align: right;\">    0</td><td style=\"text-align: right;\">    0</td><td style=\"text-align: right;\">     0</td><td style=\"text-align: right;\">          1</td><td style=\"text-align: right;\">          0</td><td style=\"text-align: right;\">          0</td><td style=\"text-align: right;\">          0</td><td style=\"text-align: right;\">          0</td><td style=\"text-align: right;\">          0</td><td style=\"text-align: right;\">          0</td><td style=\"text-align: right;\">          0</td><td style=\"text-align: right;\">          0</td><td style=\"text-align: right;\">          0</td><td style=\"text-align: right;\">          0</td><td style=\"text-align: right;\">          0</td><td style=\"text-align: right;\">          0</td><td style=\"text-align: right;\">          0</td><td style=\"text-align: right;\">          0</td><td style=\"text-align: right;\">          0</td><td style=\"text-align: right;\">          0</td><td style=\"text-align: right;\">          0</td><td style=\"text-align: right;\">          0</td><td style=\"text-align: right;\">           0</td><td style=\"text-align: right;\">          0</td><td style=\"text-align: right;\">        0</td><td style=\"text-align: right;\">  nan</td><td style=\"text-align: right;\">  nan</td><td style=\"text-align: right;\">  nan</td></tr>\n",
       "<tr><td style=\"text-align: right;\">       31028</td><td style=\"text-align: right;\">    40704</td><td style=\"text-align: right;\">     42385</td><td style=\"text-align: right;\">     64.6 </td><td style=\"text-align: right;\">             0</td><td style=\"text-align: right;\">            0</td><td style=\"text-align: right;\">    66</td><td style=\"text-align: right;\">    0</td><td style=\"text-align: right;\">     0</td><td style=\"text-align: right;\">            0</td><td style=\"text-align: right;\">        0</td><td style=\"text-align: right;\">            0</td><td style=\"text-align: right;\">    0</td><td style=\"text-align: right;\">    0</td><td style=\"text-align: right;\">    0</td><td style=\"text-align: right;\">      0</td><td style=\"text-align: right;\">    0</td><td style=\"text-align: right;\">    0</td><td style=\"text-align: right;\">    0</td><td style=\"text-align: right;\">    0</td><td style=\"text-align: right;\">    0</td><td style=\"text-align: right;\">    0</td><td style=\"text-align: right;\">    1</td><td style=\"text-align: right;\">    1</td><td style=\"text-align: right;\">    0</td><td style=\"text-align: right;\">    0</td><td style=\"text-align: right;\">    0</td><td style=\"text-align: right;\">    0</td><td style=\"text-align: right;\">     0</td><td style=\"text-align: right;\">          1</td><td style=\"text-align: right;\">          0</td><td style=\"text-align: right;\">          0</td><td style=\"text-align: right;\">          0</td><td style=\"text-align: right;\">          0</td><td style=\"text-align: right;\">          0</td><td style=\"text-align: right;\">          0</td><td style=\"text-align: right;\">          0</td><td style=\"text-align: right;\">          0</td><td style=\"text-align: right;\">          0</td><td style=\"text-align: right;\">          0</td><td style=\"text-align: right;\">          0</td><td style=\"text-align: right;\">          0</td><td style=\"text-align: right;\">          0</td><td style=\"text-align: right;\">          0</td><td style=\"text-align: right;\">          0</td><td style=\"text-align: right;\">          0</td><td style=\"text-align: right;\">          0</td><td style=\"text-align: right;\">          0</td><td style=\"text-align: right;\">           0</td><td style=\"text-align: right;\">          0</td><td style=\"text-align: right;\">        0</td><td style=\"text-align: right;\">  nan</td><td style=\"text-align: right;\">  nan</td><td style=\"text-align: right;\">  nan</td></tr>\n",
       "</tbody>\n",
       "</table>"
      ]
     },
     "metadata": {},
     "output_type": "display_data"
    },
    {
     "data": {
      "text/plain": []
     },
     "execution_count": 52,
     "metadata": {},
     "output_type": "execute_result"
    }
   ],
   "source": [
    "#quick look at dataframe\n",
    "dataframe.head()\n"
   ]
  },
  {
   "cell_type": "code",
   "execution_count": 53,
   "metadata": {},
   "outputs": [
    {
     "name": "stdout",
     "output_type": "stream",
     "text": [
      "Rows:1518\n",
      "Cols:54\n",
      "\n",
      "\n"
     ]
    },
    {
     "data": {
      "text/html": [
       "<table>\n",
       "<thead>\n",
       "<tr><th>       </th><th>ATTENDANCE        </th><th>Prev_yr          </th><th>Prev_2yr         </th><th>avg_temp         </th><th>Good_weather       </th><th>Bad_weather        </th><th>Temp              </th><th>Hot                 </th><th>Cold               </th><th>Opening Day         </th><th>Holiday             </th><th>Interleague        </th><th>NYY                </th><th>BOS                </th><th>WSH                </th><th>NIGHT             </th><th>Mon                </th><th>Tue                </th><th>WED                </th><th>Thu               </th><th>FRI                </th><th>SAT                </th><th>SUN               </th><th>Apr               </th><th>May                </th><th>Jun                </th><th>Jul                </th><th>Aug                </th><th>Sept                </th><th>Year_2001           </th><th>Year_2002          </th><th>Year_2003          </th><th>Year_2004           </th><th>Year_2005           </th><th>Year_2006          </th><th>Year_2007           </th><th>Year_2008          </th><th>Year_2009           </th><th>Year_2010           </th><th>Year_2011           </th><th>Year_2012          </th><th>Year_2013          </th><th>Year_2014           </th><th>Year_2015          </th><th>Year_2016          </th><th>Year_2017          </th><th>Year_2018          </th><th>Year_2019         </th><th>Bobblehead         </th><th>Fireworks          </th><th>Make_up             </th><th>C52  </th><th>C53  </th><th>C54  </th></tr>\n",
       "</thead>\n",
       "<tbody>\n",
       "<tr><td>type   </td><td>int               </td><td>int              </td><td>int              </td><td>real             </td><td>int                </td><td>int                </td><td>int               </td><td>int                 </td><td>int                </td><td>int                 </td><td>int                 </td><td>int                </td><td>int                </td><td>int                </td><td>int                </td><td>int               </td><td>int                </td><td>int                </td><td>int                </td><td>int               </td><td>int                </td><td>int                </td><td>int               </td><td>int               </td><td>int                </td><td>int                </td><td>int                </td><td>int                </td><td>int                 </td><td>int                 </td><td>int                </td><td>int                </td><td>int                 </td><td>int                 </td><td>int                </td><td>int                 </td><td>int                </td><td>int                 </td><td>int                 </td><td>int                 </td><td>int                </td><td>int                </td><td>int                 </td><td>int                </td><td>int                </td><td>int                </td><td>int                </td><td>int               </td><td>int                </td><td>int                </td><td>int                 </td><td>int  </td><td>int  </td><td>int  </td></tr>\n",
       "<tr><td>mins   </td><td>7915.0            </td><td>19311.0          </td><td>21395.0          </td><td>54.42857143      </td><td>0.0                </td><td>0.0                </td><td>39.0              </td><td>0.0                 </td><td>0.0                </td><td>0.0                 </td><td>0.0                 </td><td>0.0                </td><td>0.0                </td><td>0.0                </td><td>0.0                </td><td>0.0               </td><td>0.0                </td><td>0.0                </td><td>0.0                </td><td>0.0               </td><td>0.0                </td><td>0.0                </td><td>0.0               </td><td>0.0               </td><td>0.0                </td><td>0.0                </td><td>0.0                </td><td>0.0                </td><td>0.0                 </td><td>0.0                 </td><td>0.0                </td><td>0.0                </td><td>0.0                 </td><td>0.0                 </td><td>0.0                </td><td>0.0                 </td><td>0.0                </td><td>0.0                 </td><td>0.0                 </td><td>0.0                 </td><td>0.0                </td><td>0.0                </td><td>0.0                 </td><td>0.0                </td><td>0.0                </td><td>0.0                </td><td>0.0                </td><td>0.0               </td><td>0.0                </td><td>0.0                </td><td>0.0                 </td><td>NaN  </td><td>NaN  </td><td>NaN  </td></tr>\n",
       "<tr><td>mean   </td><td>27726.327766179547</td><td>28396.15019762846</td><td>29621.49472990778</td><td>78.0350435960672 </td><td>0.33240418118466897</td><td>0.21672473867595818</td><td>78.05365853658536 </td><td>0.011149825783972125</td><td>0.0417536534446764 </td><td>0.012516469038208168</td><td>0.005928853754940711</td><td>0.11462450592885376</td><td>0.1152832674571805 </td><td>0.11067193675889328</td><td>0.0230566534914361 </td><td>0.7068511198945981</td><td>0.10408432147562582</td><td>0.1422924901185771 </td><td>0.15085638998682477</td><td>0.116600790513834 </td><td>0.15678524374176547</td><td>0.16666666666666666</td><td>0.1627140974967062</td><td>0.1541501976284585</td><td>0.17061923583662714</td><td>0.1772068511198946 </td><td>0.1422924901185771 </td><td>0.1785243741765481 </td><td>0.008563899868247696</td><td>0.052700922266139656</td><td>0.0533596837944664 </td><td>0.0533596837944664 </td><td>0.052700922266139656</td><td>0.053359683794466414</td><td>0.0533596837944664 </td><td>0.052700922266139656</td><td>0.05138339920948617</td><td>0.052700922266139656</td><td>0.052700922266139656</td><td>0.052700922266139656</td><td>0.05204216073781291</td><td>0.0533596837944664 </td><td>0.052700922266139656</td><td>0.04940711462450593</td><td>0.0533596837944664 </td><td>0.0533596837944664 </td><td>0.05138339920948617</td><td>0.0533596837944664</td><td>0.03162055335968379</td><td>0.06324110671936758</td><td>0.025691699604743084</td><td>0.0  </td><td>0.0  </td><td>0.0  </td></tr>\n",
       "<tr><td>maxs   </td><td>49828.0           </td><td>40704.0          </td><td>42385.0          </td><td>92.0             </td><td>1.0                </td><td>1.0                </td><td>104.0             </td><td>1.0                 </td><td>1.0                </td><td>1.0                 </td><td>1.0                 </td><td>1.0                </td><td>1.0                </td><td>1.0                </td><td>1.0                </td><td>1.0               </td><td>1.0                </td><td>1.0                </td><td>1.0                </td><td>1.0               </td><td>1.0                </td><td>1.0                </td><td>1.0               </td><td>1.0               </td><td>1.0                </td><td>1.0                </td><td>1.0                </td><td>1.0                </td><td>1.0                 </td><td>1.0                 </td><td>1.0                </td><td>1.0                </td><td>1.0                 </td><td>1.0                 </td><td>1.0                </td><td>1.0                 </td><td>1.0                </td><td>1.0                 </td><td>1.0                 </td><td>1.0                 </td><td>1.0                </td><td>1.0                </td><td>1.0                 </td><td>1.0                </td><td>1.0                </td><td>1.0                </td><td>1.0                </td><td>1.0               </td><td>1.0                </td><td>1.0                </td><td>1.0                 </td><td>NaN  </td><td>NaN  </td><td>NaN  </td></tr>\n",
       "<tr><td>sigma  </td><td>10345.415586116313</td><td>5526.395772280099</td><td>5923.070092166377</td><td>8.743778098315081</td><td>0.47123920848578027</td><td>0.4121571363824412 </td><td>11.248271780867682</td><td>0.10503902040266909 </td><td>0.20009534773393114</td><td>0.11121130596158368 </td><td>0.0767957521734266  </td><td>0.31867323002338854</td><td>0.31946872942499016</td><td>0.31382883811692747</td><td>0.15013291656173444</td><td>0.4553561330205519</td><td>0.3054705321571653 </td><td>0.34946500417915616</td><td>0.3580267891313076 </td><td>0.3210497572919999</td><td>0.3637179940042357 </td><td>0.37280080989516723</td><td>0.3692262553399683</td><td>0.3612116628273769</td><td>0.37629987228479295</td><td>0.38196949721420864</td><td>0.34946500417915616</td><td>0.38307975059835003</td><td>0.09217459752170293 </td><td>0.22350938334246379 </td><td>0.22482376546800917</td><td>0.22482376546800917</td><td>0.22350938334246379 </td><td>0.22482376546800917 </td><td>0.22482376546800917</td><td>0.22350938334246379 </td><td>0.22085125485501547</td><td>0.22350938334246379 </td><td>0.22350938334246379 </td><td>0.22350938334246379 </td><td>0.22218527147271028</td><td>0.22482376546800917</td><td>0.22350938334246376 </td><td>0.2167879412515627 </td><td>0.22482376546800917</td><td>0.22482376546800917</td><td>0.22085125485501547</td><td>0.2248237654680092</td><td>0.17504536268404441</td><td>0.24347632533501595</td><td>0.15826603212668616 </td><td>-0.0 </td><td>-0.0 </td><td>-0.0 </td></tr>\n",
       "<tr><td>zeros  </td><td>0                 </td><td>0                </td><td>0                </td><td>0                </td><td>958                </td><td>1124               </td><td>0                 </td><td>1419                </td><td>1377               </td><td>1499                </td><td>1509                </td><td>1344               </td><td>1343               </td><td>1350               </td><td>1483               </td><td>445               </td><td>1360               </td><td>1302               </td><td>1289               </td><td>1341              </td><td>1280               </td><td>1265               </td><td>1271              </td><td>1284              </td><td>1259               </td><td>1249               </td><td>1302               </td><td>1247               </td><td>1505                </td><td>1438                </td><td>1437               </td><td>1437               </td><td>1438                </td><td>1437                </td><td>1437               </td><td>1438                </td><td>1440               </td><td>1438                </td><td>1438                </td><td>1438                </td><td>1439               </td><td>1437               </td><td>1438                </td><td>1443               </td><td>1437               </td><td>1437               </td><td>1440               </td><td>1437              </td><td>1470               </td><td>1422               </td><td>1479                </td><td>0    </td><td>0    </td><td>0    </td></tr>\n",
       "<tr><td>missing</td><td>81                </td><td>0                </td><td>0                </td><td>0                </td><td>83                 </td><td>83                 </td><td>83                </td><td>83                  </td><td>81                 </td><td>0                   </td><td>0                   </td><td>0                  </td><td>0                  </td><td>0                  </td><td>0                  </td><td>0                 </td><td>0                  </td><td>0                  </td><td>0                  </td><td>0                 </td><td>0                  </td><td>0                  </td><td>0                 </td><td>0                 </td><td>0                  </td><td>0                  </td><td>0                  </td><td>0                  </td><td>0                   </td><td>0                   </td><td>0                  </td><td>0                  </td><td>0                   </td><td>0                   </td><td>0                  </td><td>0                   </td><td>0                  </td><td>0                   </td><td>0                   </td><td>0                   </td><td>0                  </td><td>0                  </td><td>0                   </td><td>0                  </td><td>0                  </td><td>0                  </td><td>0                  </td><td>0                 </td><td>0                  </td><td>0                  </td><td>0                   </td><td>1518 </td><td>1518 </td><td>1518 </td></tr>\n",
       "<tr><td>0      </td><td>47482.0           </td><td>40704.0          </td><td>42385.0          </td><td>57.13            </td><td>0.0                </td><td>1.0                </td><td>43.0              </td><td>0.0                 </td><td>1.0                </td><td>1.0                 </td><td>0.0                 </td><td>0.0                </td><td>0.0                </td><td>1.0                </td><td>0.0                </td><td>1.0               </td><td>0.0                </td><td>0.0                </td><td>0.0                </td><td>0.0               </td><td>0.0                </td><td>0.0                </td><td>1.0               </td><td>1.0               </td><td>0.0                </td><td>0.0                </td><td>0.0                </td><td>0.0                </td><td>0.0                 </td><td>1.0                 </td><td>0.0                </td><td>0.0                </td><td>0.0                 </td><td>0.0                 </td><td>0.0                </td><td>0.0                 </td><td>0.0                </td><td>0.0                 </td><td>0.0                 </td><td>0.0                 </td><td>0.0                </td><td>0.0                </td><td>0.0                 </td><td>0.0                </td><td>0.0                </td><td>0.0                </td><td>0.0                </td><td>0.0               </td><td>0.0                </td><td>0.0                </td><td>0.0                 </td><td>nan  </td><td>nan  </td><td>nan  </td></tr>\n",
       "<tr><td>1      </td><td>35207.0           </td><td>40704.0          </td><td>42385.0          </td><td>57.58            </td><td>1.0                </td><td>0.0                </td><td>59.0              </td><td>0.0                 </td><td>0.0                </td><td>0.0                 </td><td>0.0                 </td><td>0.0                </td><td>0.0                </td><td>1.0                </td><td>0.0                </td><td>0.0               </td><td>0.0                </td><td>1.0                </td><td>0.0                </td><td>0.0               </td><td>0.0                </td><td>0.0                </td><td>0.0               </td><td>1.0               </td><td>0.0                </td><td>0.0                </td><td>0.0                </td><td>0.0                </td><td>0.0                 </td><td>1.0                 </td><td>0.0                </td><td>0.0                </td><td>0.0                 </td><td>0.0                 </td><td>0.0                </td><td>0.0                 </td><td>0.0                </td><td>0.0                 </td><td>0.0                 </td><td>0.0                 </td><td>0.0                </td><td>0.0                </td><td>0.0                 </td><td>0.0                </td><td>0.0                </td><td>0.0                </td><td>0.0                </td><td>0.0               </td><td>0.0                </td><td>0.0                </td><td>0.0                 </td><td>nan  </td><td>nan  </td><td>nan  </td></tr>\n",
       "<tr><td>2      </td><td>28315.0           </td><td>40704.0          </td><td>42385.0          </td><td>62.0             </td><td>1.0                </td><td>0.0                </td><td>75.0              </td><td>0.0                 </td><td>0.0                </td><td>0.0                 </td><td>0.0                 </td><td>0.0                </td><td>0.0                </td><td>1.0                </td><td>0.0                </td><td>1.0               </td><td>0.0                </td><td>0.0                </td><td>1.0                </td><td>0.0               </td><td>0.0                </td><td>0.0                </td><td>0.0               </td><td>1.0               </td><td>0.0                </td><td>0.0                </td><td>0.0                </td><td>0.0                </td><td>0.0                 </td><td>1.0                 </td><td>0.0                </td><td>0.0                </td><td>0.0                 </td><td>0.0                 </td><td>0.0                </td><td>0.0                 </td><td>0.0                </td><td>0.0                 </td><td>0.0                 </td><td>0.0                 </td><td>0.0                </td><td>0.0                </td><td>0.0                 </td><td>0.0                </td><td>0.0                </td><td>0.0                </td><td>0.0                </td><td>0.0               </td><td>0.0                </td><td>0.0                </td><td>0.0                 </td><td>nan  </td><td>nan  </td><td>nan  </td></tr>\n",
       "<tr><td>3      </td><td>31010.0           </td><td>40704.0          </td><td>42385.0          </td><td>54.43            </td><td>0.0                </td><td>1.0                </td><td>53.0              </td><td>0.0                 </td><td>1.0                </td><td>0.0                 </td><td>0.0                 </td><td>0.0                </td><td>0.0                </td><td>1.0                </td><td>0.0                </td><td>1.0               </td><td>0.0                </td><td>0.0                </td><td>0.0                </td><td>1.0               </td><td>0.0                </td><td>0.0                </td><td>0.0               </td><td>1.0               </td><td>0.0                </td><td>0.0                </td><td>0.0                </td><td>0.0                </td><td>0.0                 </td><td>1.0                 </td><td>0.0                </td><td>0.0                </td><td>0.0                 </td><td>0.0                 </td><td>0.0                </td><td>0.0                 </td><td>0.0                </td><td>0.0                 </td><td>0.0                 </td><td>0.0                 </td><td>0.0                </td><td>0.0                </td><td>0.0                 </td><td>0.0                </td><td>0.0                </td><td>0.0                </td><td>0.0                </td><td>0.0               </td><td>0.0                </td><td>0.0                </td><td>0.0                 </td><td>nan  </td><td>nan  </td><td>nan  </td></tr>\n",
       "<tr><td>4      </td><td>21902.0           </td><td>40704.0          </td><td>42385.0          </td><td>70.83            </td><td>0.0                </td><td>0.0                </td><td>79.0              </td><td>0.0                 </td><td>0.0                </td><td>0.0                 </td><td>0.0                 </td><td>0.0                </td><td>0.0                </td><td>0.0                </td><td>0.0                </td><td>1.0               </td><td>0.0                </td><td>1.0                </td><td>0.0                </td><td>0.0               </td><td>0.0                </td><td>0.0                </td><td>0.0               </td><td>1.0               </td><td>0.0                </td><td>0.0                </td><td>0.0                </td><td>0.0                </td><td>0.0                 </td><td>1.0                 </td><td>0.0                </td><td>0.0                </td><td>0.0                 </td><td>0.0                 </td><td>0.0                </td><td>0.0                 </td><td>0.0                </td><td>0.0                 </td><td>0.0                 </td><td>0.0                 </td><td>0.0                </td><td>0.0                </td><td>0.0                 </td><td>0.0                </td><td>0.0                </td><td>0.0                </td><td>0.0                </td><td>0.0               </td><td>0.0                </td><td>0.0                </td><td>0.0                 </td><td>nan  </td><td>nan  </td><td>nan  </td></tr>\n",
       "<tr><td>5      </td><td>20781.0           </td><td>40704.0          </td><td>42385.0          </td><td>65.91            </td><td>0.0                </td><td>0.0                </td><td>71.0              </td><td>0.0                 </td><td>0.0                </td><td>0.0                 </td><td>0.0                 </td><td>0.0                </td><td>0.0                </td><td>0.0                </td><td>0.0                </td><td>1.0               </td><td>0.0                </td><td>0.0                </td><td>1.0                </td><td>0.0               </td><td>0.0                </td><td>0.0                </td><td>0.0               </td><td>1.0               </td><td>0.0                </td><td>0.0                </td><td>0.0                </td><td>0.0                </td><td>0.0                 </td><td>1.0                 </td><td>0.0                </td><td>0.0                </td><td>0.0                 </td><td>0.0                 </td><td>0.0                </td><td>0.0                 </td><td>0.0                </td><td>0.0                 </td><td>0.0                 </td><td>0.0                 </td><td>0.0                </td><td>0.0                </td><td>0.0                 </td><td>0.0                </td><td>0.0                </td><td>0.0                </td><td>0.0                </td><td>0.0               </td><td>0.0                </td><td>0.0                </td><td>0.0                 </td><td>nan  </td><td>nan  </td><td>nan  </td></tr>\n",
       "<tr><td>6      </td><td>19250.0           </td><td>40704.0          </td><td>42385.0          </td><td>66.25            </td><td>0.0                </td><td>1.0                </td><td>82.0              </td><td>0.0                 </td><td>0.0                </td><td>0.0                 </td><td>0.0                 </td><td>0.0                </td><td>0.0                </td><td>0.0                </td><td>0.0                </td><td>1.0               </td><td>0.0                </td><td>0.0                </td><td>0.0                </td><td>1.0               </td><td>0.0                </td><td>0.0                </td><td>0.0               </td><td>1.0               </td><td>0.0                </td><td>0.0                </td><td>0.0                </td><td>0.0                </td><td>0.0                 </td><td>1.0                 </td><td>0.0                </td><td>0.0                </td><td>0.0                 </td><td>0.0                 </td><td>0.0                </td><td>0.0                 </td><td>0.0                </td><td>0.0                 </td><td>0.0                 </td><td>0.0                 </td><td>0.0                </td><td>0.0                </td><td>0.0                 </td><td>0.0                </td><td>0.0                </td><td>0.0                </td><td>0.0                </td><td>0.0               </td><td>0.0                </td><td>0.0                </td><td>0.0                 </td><td>nan  </td><td>nan  </td><td>nan  </td></tr>\n",
       "<tr><td>7      </td><td>26827.0           </td><td>40704.0          </td><td>42385.0          </td><td>65.7             </td><td>0.0                </td><td>1.0                </td><td>70.0              </td><td>0.0                 </td><td>0.0                </td><td>0.0                 </td><td>0.0                 </td><td>0.0                </td><td>0.0                </td><td>0.0                </td><td>0.0                </td><td>1.0               </td><td>0.0                </td><td>0.0                </td><td>0.0                </td><td>0.0               </td><td>1.0                </td><td>0.0                </td><td>0.0               </td><td>1.0               </td><td>0.0                </td><td>0.0                </td><td>0.0                </td><td>0.0                </td><td>0.0                 </td><td>1.0                 </td><td>0.0                </td><td>0.0                </td><td>0.0                 </td><td>0.0                 </td><td>0.0                </td><td>0.0                 </td><td>0.0                </td><td>0.0                 </td><td>0.0                 </td><td>0.0                 </td><td>0.0                </td><td>0.0                </td><td>0.0                 </td><td>0.0                </td><td>0.0                </td><td>0.0                </td><td>0.0                </td><td>0.0               </td><td>0.0                </td><td>0.0                </td><td>0.0                 </td><td>nan  </td><td>nan  </td><td>nan  </td></tr>\n",
       "<tr><td>8      </td><td>41093.0           </td><td>40704.0          </td><td>42385.0          </td><td>69.27            </td><td>1.0                </td><td>0.0                </td><td>77.0              </td><td>0.0                 </td><td>0.0                </td><td>0.0                 </td><td>0.0                 </td><td>0.0                </td><td>0.0                </td><td>0.0                </td><td>0.0                </td><td>0.0               </td><td>0.0                </td><td>0.0                </td><td>0.0                </td><td>0.0               </td><td>0.0                </td><td>1.0                </td><td>0.0               </td><td>1.0               </td><td>0.0                </td><td>0.0                </td><td>0.0                </td><td>0.0                </td><td>0.0                 </td><td>1.0                 </td><td>0.0                </td><td>0.0                </td><td>0.0                 </td><td>0.0                 </td><td>0.0                </td><td>0.0                 </td><td>0.0                </td><td>0.0                 </td><td>0.0                 </td><td>0.0                 </td><td>0.0                </td><td>0.0                </td><td>0.0                 </td><td>0.0                </td><td>0.0                </td><td>0.0                </td><td>0.0                </td><td>0.0               </td><td>0.0                </td><td>0.0                </td><td>0.0                 </td><td>nan  </td><td>nan  </td><td>nan  </td></tr>\n",
       "<tr><td>9      </td><td>31028.0           </td><td>40704.0          </td><td>42385.0          </td><td>64.6             </td><td>0.0                </td><td>0.0                </td><td>66.0              </td><td>0.0                 </td><td>0.0                </td><td>0.0                 </td><td>0.0                 </td><td>0.0                </td><td>0.0                </td><td>0.0                </td><td>0.0                </td><td>0.0               </td><td>0.0                </td><td>0.0                </td><td>0.0                </td><td>0.0               </td><td>0.0                </td><td>0.0                </td><td>1.0               </td><td>1.0               </td><td>0.0                </td><td>0.0                </td><td>0.0                </td><td>0.0                </td><td>0.0                 </td><td>1.0                 </td><td>0.0                </td><td>0.0                </td><td>0.0                 </td><td>0.0                 </td><td>0.0                </td><td>0.0                 </td><td>0.0                </td><td>0.0                 </td><td>0.0                 </td><td>0.0                 </td><td>0.0                </td><td>0.0                </td><td>0.0                 </td><td>0.0                </td><td>0.0                </td><td>0.0                </td><td>0.0                </td><td>0.0               </td><td>0.0                </td><td>0.0                </td><td>0.0                 </td><td>nan  </td><td>nan  </td><td>nan  </td></tr>\n",
       "</tbody>\n",
       "</table>"
      ]
     },
     "metadata": {},
     "output_type": "display_data"
    }
   ],
   "source": [
    "#detailed look at statistics around data\n",
    "dataframe.describe()"
   ]
  },
  {
   "cell_type": "code",
   "execution_count": 6,
   "metadata": {
    "collapsed": true
   },
   "outputs": [],
   "source": [
    "#drop the right three columns that shouldn't be part of the dataset\n",
    "dataframe = dataframe.drop(['C52', 'C53', 'C54'])"
   ]
  },
  {
   "cell_type": "code",
   "execution_count": 7,
   "metadata": {
    "collapsed": true
   },
   "outputs": [],
   "source": [
    "#split the test and train data into the test 2019 data\n",
    "test = dataframe[dataframe['Year_2019'] == 1]\n",
    "train = dataframe[dataframe['Year_2019'] == 0]"
   ]
  },
  {
   "cell_type": "code",
   "execution_count": 45,
   "metadata": {},
   "outputs": [
    {
     "name": "stdout",
     "output_type": "stream",
     "text": [
      "Rows:1437\n",
      "Cols:51\n",
      "\n",
      "\n"
     ]
    },
    {
     "data": {
      "text/html": [
       "<table>\n",
       "<thead>\n",
       "<tr><th>       </th><th>ATTENDANCE        </th><th>Prev_yr           </th><th>Prev_2yr          </th><th>avg_temp         </th><th>Good_weather       </th><th>Bad_weather        </th><th>Temp              </th><th>Hot                 </th><th>Cold               </th><th>Opening Day         </th><th>Holiday              </th><th>Interleague        </th><th>NYY                </th><th>BOS                </th><th>WSH                 </th><th>NIGHT             </th><th>Mon                </th><th>Tue               </th><th>WED                </th><th>Thu                </th><th>FRI                </th><th>SAT                </th><th>SUN                </th><th>Apr                </th><th>May                </th><th>Jun               </th><th>Jul                </th><th>Aug                </th><th>Sept  </th><th>Year_2001           </th><th>Year_2002          </th><th>Year_2003          </th><th>Year_2004           </th><th>Year_2005          </th><th>Year_2006          </th><th>Year_2007           </th><th>Year_2008           </th><th>Year_2009           </th><th>Year_2010           </th><th>Year_2011           </th><th>Year_2012           </th><th>Year_2013          </th><th>Year_2014           </th><th>Year_2015          </th><th>Year_2016          </th><th>Year_2017          </th><th>Year_2018           </th><th>Year_2019  </th><th>Bobblehead          </th><th>Fireworks           </th><th>Make_up             </th></tr>\n",
       "</thead>\n",
       "<tbody>\n",
       "<tr><td>type   </td><td>int               </td><td>int               </td><td>int               </td><td>real             </td><td>int                </td><td>int                </td><td>int               </td><td>int                 </td><td>int                </td><td>int                 </td><td>int                  </td><td>int                </td><td>int                </td><td>int                </td><td>int                 </td><td>int               </td><td>int                </td><td>int               </td><td>int                </td><td>int                </td><td>int                </td><td>int                </td><td>int                </td><td>int                </td><td>int                </td><td>int               </td><td>int                </td><td>int                </td><td>int   </td><td>int                 </td><td>int                </td><td>int                </td><td>int                 </td><td>int                </td><td>int                </td><td>int                 </td><td>int                 </td><td>int                 </td><td>int                 </td><td>int                 </td><td>int                 </td><td>int                </td><td>int                 </td><td>int                </td><td>int                </td><td>int                </td><td>int                 </td><td>int        </td><td>int                 </td><td>int                 </td><td>int                 </td></tr>\n",
       "<tr><td>mins   </td><td>7915.0            </td><td>21395.0           </td><td>21395.0           </td><td>54.43            </td><td>0.0                </td><td>0.0                </td><td>39.0              </td><td>0.0                 </td><td>0.0                </td><td>0.0                 </td><td>0.0                  </td><td>0.0                </td><td>0.0                </td><td>0.0                </td><td>0.0                 </td><td>0.0               </td><td>0.0                </td><td>0.0               </td><td>0.0                </td><td>0.0                </td><td>0.0                </td><td>0.0                </td><td>0.0                </td><td>0.0                </td><td>0.0                </td><td>0.0               </td><td>0.0                </td><td>0.0                </td><td>0.0   </td><td>0.0                 </td><td>0.0                </td><td>0.0                </td><td>0.0                 </td><td>0.0                </td><td>0.0                </td><td>0.0                 </td><td>0.0                 </td><td>0.0                 </td><td>0.0                 </td><td>0.0                 </td><td>0.0                 </td><td>0.0                </td><td>0.0                 </td><td>0.0                </td><td>0.0                </td><td>0.0                </td><td>0.0                 </td><td>0.0        </td><td>0.0                 </td><td>0.0                 </td><td>0.0                 </td></tr>\n",
       "<tr><td>mean   </td><td>27726.327766179547</td><td>28908.256784968686</td><td>29879.629088378573</td><td>78.06012526096032</td><td>0.33240418118466897</td><td>0.21672473867595818</td><td>78.05365853658536 </td><td>0.011149825783972125</td><td>0.0417536534446764 </td><td>0.012526096033402923</td><td>0.0055671537926235215</td><td>0.11412665274878218</td><td>0.11482254697286012</td><td>0.11691022964509394</td><td>0.024356297842727904</td><td>0.7056367432150313</td><td>0.10508002783576896</td><td>0.1419624217118998</td><td>0.15100904662491302</td><td>0.11691022964509394</td><td>0.15657620041753653</td><td>0.1663187195546277 </td><td>0.16214335421016005</td><td>0.15379262352122477</td><td>0.1684064022268615 </td><td>0.1781489213639527</td><td>0.14474599860821155</td><td>0.1767571329157968 </td><td>0.0   </td><td>0.055671537926235214</td><td>0.05636743215031315</td><td>0.05636743215031315</td><td>0.055671537926235214</td><td>0.05636743215031316</td><td>0.05636743215031315</td><td>0.055671537926235214</td><td>0.054279749478079335</td><td>0.055671537926235214</td><td>0.055671537926235214</td><td>0.055671537926235214</td><td>0.054975643702157274</td><td>0.05636743215031315</td><td>0.055671537926235214</td><td>0.05219206680584551</td><td>0.05636743215031315</td><td>0.05636743215031315</td><td>0.054279749478079335</td><td>0.0        </td><td>0.031315240083507306</td><td>0.059846903270702856</td><td>0.027139874739039668</td></tr>\n",
       "<tr><td>maxs   </td><td>49828.0           </td><td>40704.0           </td><td>42385.0           </td><td>92.0             </td><td>1.0                </td><td>1.0                </td><td>104.0             </td><td>1.0                 </td><td>1.0                </td><td>1.0                 </td><td>1.0                  </td><td>1.0                </td><td>1.0                </td><td>1.0                </td><td>1.0                 </td><td>1.0               </td><td>1.0                </td><td>1.0               </td><td>1.0                </td><td>1.0                </td><td>1.0                </td><td>1.0                </td><td>1.0                </td><td>1.0                </td><td>1.0                </td><td>1.0               </td><td>1.0                </td><td>1.0                </td><td>0.0   </td><td>1.0                 </td><td>1.0                </td><td>1.0                </td><td>1.0                 </td><td>1.0                </td><td>1.0                </td><td>1.0                 </td><td>1.0                 </td><td>1.0                 </td><td>1.0                 </td><td>1.0                 </td><td>1.0                 </td><td>1.0                </td><td>1.0                 </td><td>1.0                </td><td>1.0                </td><td>1.0                </td><td>1.0                 </td><td>0.0        </td><td>1.0                 </td><td>1.0                 </td><td>1.0                 </td></tr>\n",
       "<tr><td>sigma  </td><td>10345.415586116313</td><td>5229.2952339321555</td><td>5984.315632438844 </td><td>8.711270210199347</td><td>0.47123920848578027</td><td>0.4121571363824412 </td><td>11.248271780867682</td><td>0.10503902040266909 </td><td>0.20009534773393114</td><td>0.11125559130075925 </td><td>0.07443128278021617  </td><td>0.3180757221266761 </td><td>0.3189186549273017 </td><td>0.32142514455354976</td><td>0.1542064093870089  </td><td>0.4559146599362842</td><td>0.3067632667193968 </td><td>0.3491330946887513</td><td>0.3581823473166198 </td><td>0.32142514455354976</td><td>0.36352724483045434</td><td>0.37249612178202474</td><td>0.36871058022530145</td><td>0.36087543491864665</td><td>0.37435706319873596</td><td>0.3827712650091862</td><td>0.351967047363824  </td><td>0.38159583564591393</td><td>0.0   </td><td>0.22936614390681828 </td><td>0.23071017583509656</td><td>0.23071017583509654</td><td>0.22936614390681828 </td><td>0.23071017583509654</td><td>0.23071017583509656</td><td>0.22936614390681828 </td><td>0.22664775712169258 </td><td>0.22936614390681828 </td><td>0.22936614390681828 </td><td>0.22936614390681828 </td><td>0.22801206436391502 </td><td>0.23071017583509656</td><td>0.22936614390681825 </td><td>0.22249158068256214</td><td>0.23071017583509656</td><td>0.23071017583509654</td><td>0.22664775712169258 </td><td>0.0        </td><td>0.17422893041159726 </td><td>0.2372855523827396  </td><td>0.16254749656239853 </td></tr>\n",
       "<tr><td>zeros  </td><td>0                 </td><td>0                 </td><td>0                 </td><td>0                </td><td>958                </td><td>1124               </td><td>0                 </td><td>1419                </td><td>1377               </td><td>1419                </td><td>1429                 </td><td>1273               </td><td>1272               </td><td>1269               </td><td>1402                </td><td>423               </td><td>1286               </td><td>1233              </td><td>1220               </td><td>1269               </td><td>1212               </td><td>1198               </td><td>1204               </td><td>1216               </td><td>1195               </td><td>1181              </td><td>1229               </td><td>1183               </td><td>1437  </td><td>1357                </td><td>1356               </td><td>1356               </td><td>1357                </td><td>1356               </td><td>1356               </td><td>1357                </td><td>1359                </td><td>1357                </td><td>1357                </td><td>1357                </td><td>1358                </td><td>1356               </td><td>1357                </td><td>1362               </td><td>1356               </td><td>1356               </td><td>1359                </td><td>1437       </td><td>1392                </td><td>1351                </td><td>1398                </td></tr>\n",
       "<tr><td>missing</td><td>0                 </td><td>0                 </td><td>0                 </td><td>0                </td><td>2                  </td><td>2                  </td><td>2                 </td><td>2                   </td><td>0                  </td><td>0                   </td><td>0                    </td><td>0                  </td><td>0                  </td><td>0                  </td><td>0                   </td><td>0                 </td><td>0                  </td><td>0                 </td><td>0                  </td><td>0                  </td><td>0                  </td><td>0                  </td><td>0                  </td><td>0                  </td><td>0                  </td><td>0                 </td><td>0                  </td><td>0                  </td><td>0     </td><td>0                   </td><td>0                  </td><td>0                  </td><td>0                   </td><td>0                  </td><td>0                  </td><td>0                   </td><td>0                   </td><td>0                   </td><td>0                   </td><td>0                   </td><td>0                   </td><td>0                  </td><td>0                   </td><td>0                  </td><td>0                  </td><td>0                  </td><td>0                   </td><td>0          </td><td>0                   </td><td>0                   </td><td>0                   </td></tr>\n",
       "<tr><td>0      </td><td>47482.0           </td><td>40704.0           </td><td>42385.0           </td><td>57.13            </td><td>0.0                </td><td>1.0                </td><td>43.0              </td><td>0.0                 </td><td>1.0                </td><td>1.0                 </td><td>0.0                  </td><td>0.0                </td><td>0.0                </td><td>1.0                </td><td>0.0                 </td><td>1.0               </td><td>0.0                </td><td>0.0               </td><td>0.0                </td><td>0.0                </td><td>0.0                </td><td>0.0                </td><td>1.0                </td><td>1.0                </td><td>0.0                </td><td>0.0               </td><td>0.0                </td><td>0.0                </td><td>0.0   </td><td>1.0                 </td><td>0.0                </td><td>0.0                </td><td>0.0                 </td><td>0.0                </td><td>0.0                </td><td>0.0                 </td><td>0.0                 </td><td>0.0                 </td><td>0.0                 </td><td>0.0                 </td><td>0.0                 </td><td>0.0                </td><td>0.0                 </td><td>0.0                </td><td>0.0                </td><td>0.0                </td><td>0.0                 </td><td>0.0        </td><td>0.0                 </td><td>0.0                 </td><td>0.0                 </td></tr>\n",
       "<tr><td>1      </td><td>35207.0           </td><td>40704.0           </td><td>42385.0           </td><td>57.58            </td><td>1.0                </td><td>0.0                </td><td>59.0              </td><td>0.0                 </td><td>0.0                </td><td>0.0                 </td><td>0.0                  </td><td>0.0                </td><td>0.0                </td><td>1.0                </td><td>0.0                 </td><td>0.0               </td><td>0.0                </td><td>1.0               </td><td>0.0                </td><td>0.0                </td><td>0.0                </td><td>0.0                </td><td>0.0                </td><td>1.0                </td><td>0.0                </td><td>0.0               </td><td>0.0                </td><td>0.0                </td><td>0.0   </td><td>1.0                 </td><td>0.0                </td><td>0.0                </td><td>0.0                 </td><td>0.0                </td><td>0.0                </td><td>0.0                 </td><td>0.0                 </td><td>0.0                 </td><td>0.0                 </td><td>0.0                 </td><td>0.0                 </td><td>0.0                </td><td>0.0                 </td><td>0.0                </td><td>0.0                </td><td>0.0                </td><td>0.0                 </td><td>0.0        </td><td>0.0                 </td><td>0.0                 </td><td>0.0                 </td></tr>\n",
       "<tr><td>2      </td><td>28315.0           </td><td>40704.0           </td><td>42385.0           </td><td>62.0             </td><td>1.0                </td><td>0.0                </td><td>75.0              </td><td>0.0                 </td><td>0.0                </td><td>0.0                 </td><td>0.0                  </td><td>0.0                </td><td>0.0                </td><td>1.0                </td><td>0.0                 </td><td>1.0               </td><td>0.0                </td><td>0.0               </td><td>1.0                </td><td>0.0                </td><td>0.0                </td><td>0.0                </td><td>0.0                </td><td>1.0                </td><td>0.0                </td><td>0.0               </td><td>0.0                </td><td>0.0                </td><td>0.0   </td><td>1.0                 </td><td>0.0                </td><td>0.0                </td><td>0.0                 </td><td>0.0                </td><td>0.0                </td><td>0.0                 </td><td>0.0                 </td><td>0.0                 </td><td>0.0                 </td><td>0.0                 </td><td>0.0                 </td><td>0.0                </td><td>0.0                 </td><td>0.0                </td><td>0.0                </td><td>0.0                </td><td>0.0                 </td><td>0.0        </td><td>0.0                 </td><td>0.0                 </td><td>0.0                 </td></tr>\n",
       "<tr><td>3      </td><td>31010.0           </td><td>40704.0           </td><td>42385.0           </td><td>54.43            </td><td>0.0                </td><td>1.0                </td><td>53.0              </td><td>0.0                 </td><td>1.0                </td><td>0.0                 </td><td>0.0                  </td><td>0.0                </td><td>0.0                </td><td>1.0                </td><td>0.0                 </td><td>1.0               </td><td>0.0                </td><td>0.0               </td><td>0.0                </td><td>1.0                </td><td>0.0                </td><td>0.0                </td><td>0.0                </td><td>1.0                </td><td>0.0                </td><td>0.0               </td><td>0.0                </td><td>0.0                </td><td>0.0   </td><td>1.0                 </td><td>0.0                </td><td>0.0                </td><td>0.0                 </td><td>0.0                </td><td>0.0                </td><td>0.0                 </td><td>0.0                 </td><td>0.0                 </td><td>0.0                 </td><td>0.0                 </td><td>0.0                 </td><td>0.0                </td><td>0.0                 </td><td>0.0                </td><td>0.0                </td><td>0.0                </td><td>0.0                 </td><td>0.0        </td><td>0.0                 </td><td>0.0                 </td><td>0.0                 </td></tr>\n",
       "<tr><td>4      </td><td>21902.0           </td><td>40704.0           </td><td>42385.0           </td><td>70.83            </td><td>0.0                </td><td>0.0                </td><td>79.0              </td><td>0.0                 </td><td>0.0                </td><td>0.0                 </td><td>0.0                  </td><td>0.0                </td><td>0.0                </td><td>0.0                </td><td>0.0                 </td><td>1.0               </td><td>0.0                </td><td>1.0               </td><td>0.0                </td><td>0.0                </td><td>0.0                </td><td>0.0                </td><td>0.0                </td><td>1.0                </td><td>0.0                </td><td>0.0               </td><td>0.0                </td><td>0.0                </td><td>0.0   </td><td>1.0                 </td><td>0.0                </td><td>0.0                </td><td>0.0                 </td><td>0.0                </td><td>0.0                </td><td>0.0                 </td><td>0.0                 </td><td>0.0                 </td><td>0.0                 </td><td>0.0                 </td><td>0.0                 </td><td>0.0                </td><td>0.0                 </td><td>0.0                </td><td>0.0                </td><td>0.0                </td><td>0.0                 </td><td>0.0        </td><td>0.0                 </td><td>0.0                 </td><td>0.0                 </td></tr>\n",
       "<tr><td>5      </td><td>20781.0           </td><td>40704.0           </td><td>42385.0           </td><td>65.91            </td><td>0.0                </td><td>0.0                </td><td>71.0              </td><td>0.0                 </td><td>0.0                </td><td>0.0                 </td><td>0.0                  </td><td>0.0                </td><td>0.0                </td><td>0.0                </td><td>0.0                 </td><td>1.0               </td><td>0.0                </td><td>0.0               </td><td>1.0                </td><td>0.0                </td><td>0.0                </td><td>0.0                </td><td>0.0                </td><td>1.0                </td><td>0.0                </td><td>0.0               </td><td>0.0                </td><td>0.0                </td><td>0.0   </td><td>1.0                 </td><td>0.0                </td><td>0.0                </td><td>0.0                 </td><td>0.0                </td><td>0.0                </td><td>0.0                 </td><td>0.0                 </td><td>0.0                 </td><td>0.0                 </td><td>0.0                 </td><td>0.0                 </td><td>0.0                </td><td>0.0                 </td><td>0.0                </td><td>0.0                </td><td>0.0                </td><td>0.0                 </td><td>0.0        </td><td>0.0                 </td><td>0.0                 </td><td>0.0                 </td></tr>\n",
       "<tr><td>6      </td><td>19250.0           </td><td>40704.0           </td><td>42385.0           </td><td>66.25            </td><td>0.0                </td><td>1.0                </td><td>82.0              </td><td>0.0                 </td><td>0.0                </td><td>0.0                 </td><td>0.0                  </td><td>0.0                </td><td>0.0                </td><td>0.0                </td><td>0.0                 </td><td>1.0               </td><td>0.0                </td><td>0.0               </td><td>0.0                </td><td>1.0                </td><td>0.0                </td><td>0.0                </td><td>0.0                </td><td>1.0                </td><td>0.0                </td><td>0.0               </td><td>0.0                </td><td>0.0                </td><td>0.0   </td><td>1.0                 </td><td>0.0                </td><td>0.0                </td><td>0.0                 </td><td>0.0                </td><td>0.0                </td><td>0.0                 </td><td>0.0                 </td><td>0.0                 </td><td>0.0                 </td><td>0.0                 </td><td>0.0                 </td><td>0.0                </td><td>0.0                 </td><td>0.0                </td><td>0.0                </td><td>0.0                </td><td>0.0                 </td><td>0.0        </td><td>0.0                 </td><td>0.0                 </td><td>0.0                 </td></tr>\n",
       "<tr><td>7      </td><td>26827.0           </td><td>40704.0           </td><td>42385.0           </td><td>65.7             </td><td>0.0                </td><td>1.0                </td><td>70.0              </td><td>0.0                 </td><td>0.0                </td><td>0.0                 </td><td>0.0                  </td><td>0.0                </td><td>0.0                </td><td>0.0                </td><td>0.0                 </td><td>1.0               </td><td>0.0                </td><td>0.0               </td><td>0.0                </td><td>0.0                </td><td>1.0                </td><td>0.0                </td><td>0.0                </td><td>1.0                </td><td>0.0                </td><td>0.0               </td><td>0.0                </td><td>0.0                </td><td>0.0   </td><td>1.0                 </td><td>0.0                </td><td>0.0                </td><td>0.0                 </td><td>0.0                </td><td>0.0                </td><td>0.0                 </td><td>0.0                 </td><td>0.0                 </td><td>0.0                 </td><td>0.0                 </td><td>0.0                 </td><td>0.0                </td><td>0.0                 </td><td>0.0                </td><td>0.0                </td><td>0.0                </td><td>0.0                 </td><td>0.0        </td><td>0.0                 </td><td>0.0                 </td><td>0.0                 </td></tr>\n",
       "<tr><td>8      </td><td>41093.0           </td><td>40704.0           </td><td>42385.0           </td><td>69.27            </td><td>1.0                </td><td>0.0                </td><td>77.0              </td><td>0.0                 </td><td>0.0                </td><td>0.0                 </td><td>0.0                  </td><td>0.0                </td><td>0.0                </td><td>0.0                </td><td>0.0                 </td><td>0.0               </td><td>0.0                </td><td>0.0               </td><td>0.0                </td><td>0.0                </td><td>0.0                </td><td>1.0                </td><td>0.0                </td><td>1.0                </td><td>0.0                </td><td>0.0               </td><td>0.0                </td><td>0.0                </td><td>0.0   </td><td>1.0                 </td><td>0.0                </td><td>0.0                </td><td>0.0                 </td><td>0.0                </td><td>0.0                </td><td>0.0                 </td><td>0.0                 </td><td>0.0                 </td><td>0.0                 </td><td>0.0                 </td><td>0.0                 </td><td>0.0                </td><td>0.0                 </td><td>0.0                </td><td>0.0                </td><td>0.0                </td><td>0.0                 </td><td>0.0        </td><td>0.0                 </td><td>0.0                 </td><td>0.0                 </td></tr>\n",
       "<tr><td>9      </td><td>31028.0           </td><td>40704.0           </td><td>42385.0           </td><td>64.6             </td><td>0.0                </td><td>0.0                </td><td>66.0              </td><td>0.0                 </td><td>0.0                </td><td>0.0                 </td><td>0.0                  </td><td>0.0                </td><td>0.0                </td><td>0.0                </td><td>0.0                 </td><td>0.0               </td><td>0.0                </td><td>0.0               </td><td>0.0                </td><td>0.0                </td><td>0.0                </td><td>0.0                </td><td>1.0                </td><td>1.0                </td><td>0.0                </td><td>0.0               </td><td>0.0                </td><td>0.0                </td><td>0.0   </td><td>1.0                 </td><td>0.0                </td><td>0.0                </td><td>0.0                 </td><td>0.0                </td><td>0.0                </td><td>0.0                 </td><td>0.0                 </td><td>0.0                 </td><td>0.0                 </td><td>0.0                 </td><td>0.0                 </td><td>0.0                </td><td>0.0                 </td><td>0.0                </td><td>0.0                </td><td>0.0                </td><td>0.0                 </td><td>0.0        </td><td>0.0                 </td><td>0.0                 </td><td>0.0                 </td></tr>\n",
       "</tbody>\n",
       "</table>"
      ]
     },
     "metadata": {},
     "output_type": "display_data"
    }
   ],
   "source": [
    "#verify train data\n",
    "train.describe()"
   ]
  },
  {
   "cell_type": "code",
   "execution_count": 9,
   "metadata": {
    "collapsed": true
   },
   "outputs": [],
   "source": [
    "# assign target and inputs for linear regression\n",
    "y = 'ATTENDANCE'\n",
    "X = [name for name in dataframe.columns if name not in y]"
   ]
  },
  {
   "cell_type": "code",
   "execution_count": 44,
   "metadata": {},
   "outputs": [
    {
     "name": "stdout",
     "output_type": "stream",
     "text": [
      "ATTENDANCE\n"
     ]
    }
   ],
   "source": [
    "print(y)"
   ]
  },
  {
   "cell_type": "code",
   "execution_count": 62,
   "metadata": {},
   "outputs": [
    {
     "name": "stdout",
     "output_type": "stream",
     "text": [
      "glm Model Build progress: |███████████████████████████████████████████████| 100%\n",
      "Model Details\n",
      "=============\n",
      "H2OGeneralizedLinearEstimator :  Generalized Linear Modeling\n",
      "Model Key:  loan_glm1\n",
      "\n",
      "\n",
      "ModelMetricsRegressionGLM: glm\n",
      "** Reported on train data. **\n",
      "\n",
      "MSE: 33641171.73963382\n",
      "RMSE: 5800.101011157807\n",
      "MAE: 4604.433690331575\n",
      "RMSLE: 0.21696318592510197\n",
      "R^2: 0.6854587853906547\n",
      "Mean Residual Deviance: 33641171.73963382\n",
      "Null degrees of freedom: 1436\n",
      "Residual degrees of freedom: 1388\n",
      "Null deviance: 153691667560.62213\n",
      "Residual deviance: 48342363789.8538\n",
      "AIC: 29083.05172360483\n",
      "Scoring History: \n"
     ]
    },
    {
     "data": {
      "text/html": [
       "<div style=\"overflow:auto\"><table style=\"width:50%\"><tr><td><b></b></td>\n",
       "<td><b>timestamp</b></td>\n",
       "<td><b>duration</b></td>\n",
       "<td><b>iterations</b></td>\n",
       "<td><b>negative_log_likelihood</b></td>\n",
       "<td><b>objective</b></td></tr>\n",
       "<tr><td></td>\n",
       "<td>2018-11-18 15:07:26</td>\n",
       "<td> 0.000 sec</td>\n",
       "<td>0</td>\n",
       "<td>153691667560.6221313</td>\n",
       "<td>106953143.7443439</td></tr></table></div>"
      ],
      "text/plain": [
       "    timestamp            duration    iterations    negative_log_likelihood    objective\n",
       "--  -------------------  ----------  ------------  -------------------------  -----------\n",
       "    2018-11-18 15:07:26  0.000 sec   0             1.53692e+11                1.06953e+08"
      ]
     },
     "metadata": {},
     "output_type": "display_data"
    },
    {
     "data": {
      "text/plain": []
     },
     "execution_count": 62,
     "metadata": {},
     "output_type": "execute_result"
    }
   ],
   "source": [
    "\n",
    "# elastic net regularized regression \n",
    "#   - Gaussian family, i.e. squared loss, for linear regression\n",
    "#   - L1 for variable selection\n",
    "#   - L2 for handling multicollinearity\n",
    "#   - IRLS for handling outliers\n",
    "\n",
    "# initialize\n",
    "attendance_glm = H2OGeneralizedLinearEstimator(family='gaussian',\n",
    "                                         model_id='loan_glm1',\n",
    "                                         solver='IRLSM',\n",
    "                                         standardize=False,      # data is already standardized\n",
    "                                         lambda_=0,\n",
    "                                         seed = 1404\n",
    "                                         )              \n",
    "\n",
    "# train \n",
    "attendance_glm.train(X, y, training_frame=train)\n",
    "\n",
    "# print trained model info\n",
    "attendance_glm"
   ]
  },
  {
   "cell_type": "code",
   "execution_count": 58,
   "metadata": {
    "collapsed": true
   },
   "outputs": [],
   "source": [
    "coeff_table = attendance_glm._model_json['output']['coefficients_table']"
   ]
  },
  {
   "cell_type": "code",
   "execution_count": 59,
   "metadata": {
    "collapsed": true
   },
   "outputs": [],
   "source": [
    "#output coefficients \n",
    "newcoefftable = coeff_table.as_data_frame()"
   ]
  },
  {
   "cell_type": "code",
   "execution_count": 57,
   "metadata": {},
   "outputs": [
    {
     "name": "stdout",
     "output_type": "stream",
     "text": [
      "Intercept :  -6455.834751567727\n",
      "Prev_yr :  0.9400150484138279\n",
      "Prev_2yr :  -0.2747819223113392\n",
      "avg_temp :  148.18128469495937\n",
      "Good_weather :  622.6355518860503\n",
      "Bad_weather :  -944.7815909220976\n",
      "Temp :  -6.713987637290937\n",
      "Hot :  -3659.2038847776316\n",
      "Cold :  -1487.540154284682\n",
      "Opening Day :  25126.62873768878\n",
      "Holiday :  4113.348112196856\n",
      "Interleague :  4455.217686201152\n",
      "NYY :  11131.386197013182\n",
      "BOS :  8801.745484268391\n",
      "WSH :  3883.911804584757\n",
      "NIGHT :  -2379.7516470969417\n",
      "Mon :  -4238.8426809780785\n",
      "Tue :  -4023.5557938488046\n",
      "WED :  -4102.514959220491\n",
      "Thu :  -2885.28956913111\n",
      "FRI :  4124.446377629514\n",
      "SAT :  7423.4058326451905\n",
      "SUN :  3702.3507943477957\n",
      "Apr :  1080.9942299796535\n",
      "May :  3033.099328676061\n",
      "Jun :  2730.4086240569145\n",
      "Jul :  2925.481837309674\n",
      "Aug :  2085.7756338846575\n",
      "Year_2001 :  -877.565962385787\n",
      "Year_2002 :  -793.7875274749647\n",
      "Year_2003 :  1470.2054298391988\n",
      "Year_2004 :  6351.553169660862\n",
      "Year_2005 :  216.9939625563565\n",
      "Year_2006 :  -3346.7763920262723\n",
      "Year_2007 :  2301.6958364470415\n",
      "Year_2008 :  -1621.7517176179804\n",
      "Year_2009 :  -629.714614166877\n",
      "Year_2010 :  -2806.592261662099\n",
      "Year_2011 :  -45.09520729385813\n",
      "Year_2012 :  2954.078789250811\n",
      "Year_2013 :  1693.0571556805571\n",
      "Year_2014 :  1441.6577395247045\n",
      "Year_2015 :  977.2838723751031\n",
      "Year_2016 :  -1006.503396216224\n",
      "Year_2017 :  -1163.5937628658494\n",
      "Year_2018 :  -5115.145112347252\n",
      "Bobblehead :  5316.166064343181\n",
      "Fireworks :  2441.0434036869333\n",
      "Make_up :  -2575.3097712024255\n"
     ]
    }
   ],
   "source": [
    "# print non-zero model parameters\n",
    "for name, val in attendance_glm.coef().items():\n",
    "    if val != 0.0:\n",
    "        print(name, ': ', val)"
   ]
  },
  {
   "cell_type": "code",
   "execution_count": 63,
   "metadata": {},
   "outputs": [
    {
     "name": "stdout",
     "output_type": "stream",
     "text": [
      "glm prediction progress: |████████████████████████████████████████████████| 100%\n"
     ]
    }
   ],
   "source": [
    "#predict attendance on test data\n",
    "model2019 = attendance_glm.predict(test)"
   ]
  },
  {
   "cell_type": "code",
   "execution_count": 64,
   "metadata": {
    "collapsed": true
   },
   "outputs": [],
   "source": [
    "#convert to data frame\n",
    "predictions = model2019.as_data_frame()"
   ]
  },
  {
   "cell_type": "code",
   "execution_count": 65,
   "metadata": {
    "collapsed": true
   },
   "outputs": [],
   "source": [
    "#export\n",
    "predictions.to_csv('predictedvalues.csv')"
   ]
  },
  {
   "cell_type": "code",
   "execution_count": null,
   "metadata": {
    "collapsed": true
   },
   "outputs": [],
   "source": []
  }
 ],
 "metadata": {
  "kernelspec": {
   "display_name": "Python 3",
   "language": "python",
   "name": "python3"
  },
  "language_info": {
   "codemirror_mode": {
    "name": "ipython",
    "version": 3
   },
   "file_extension": ".py",
   "mimetype": "text/x-python",
   "name": "python",
   "nbconvert_exporter": "python",
   "pygments_lexer": "ipython3",
   "version": "3.6.1"
  }
 },
 "nbformat": 4,
 "nbformat_minor": 2
}
